{
 "cells": [
  {
   "cell_type": "code",
   "execution_count": 22,
   "metadata": {
    "collapsed": false
   },
   "outputs": [],
   "source": [
    "import os, os.path\n",
    "import numpy as np\n",
    "import pandas as pd\n",
    "import re\n",
    "import time\n",
    "import scipy\n",
    "import cvxpy as cvx\n",
    "import math"
   ]
  },
  {
   "cell_type": "markdown",
   "metadata": {},
   "source": [
    "# Load image pixel inforamtion file to Dataframe"
   ]
  },
  {
   "cell_type": "code",
   "execution_count": 51,
   "metadata": {
    "collapsed": true
   },
   "outputs": [],
   "source": [
    "sub_dir = 'C:/Users/Yutthana/Desktop/faces/nodepixel/sim'"
   ]
  },
  {
   "cell_type": "code",
   "execution_count": 52,
   "metadata": {
    "collapsed": false
   },
   "outputs": [],
   "source": [
    "data_list = []\n",
    "Edges = []\n",
    "filename = []\n",
    "# read file\n",
    "for f in os.listdir(sub_dir):\n",
    "    with open(os.path.join(sub_dir, f)) as readfile:\n",
    "        if 'Edge' in f: #get edge information (filename with edge)\n",
    "            for i in readfile.readlines():\n",
    "                tup = i.split('\\t')\n",
    "                Edges.append((int(tup[0]), int(tup[1])))\n",
    "        else: #pixel information (all other files)\n",
    "            filename.append(f)\n",
    "            line = readfile.readlines()\n",
    "            list_val = []\n",
    "            for val in line:\n",
    "                test = re.split(r'\\t+', val)[1][:-1]\n",
    "                list_val.append(test)\n",
    "            int_val = map(float, list_val)\n",
    "            data_list.append(int_val)\n",
    "\n",
    "# getting dataframe\n",
    "df = pd.DataFrame(data_list)"
   ]
  },
  {
   "cell_type": "markdown",
   "metadata": {},
   "source": [
    "# Generate Adjecency Matrix and get the Normalized Laplacian Matrix. Then get S Matrix (L = S.T * S) S = eigenvalue^1/2 * (eigenvector)"
   ]
  },
  {
   "cell_type": "code",
   "execution_count": 53,
   "metadata": {
    "collapsed": false
   },
   "outputs": [
    {
     "name": "stdout",
     "output_type": "stream",
     "text": [
      "Generating S Matrix\n",
      "0.0199885735592\n"
     ]
    }
   ],
   "source": [
    "# find A and S Matrix\n",
    "n = len(df.columns)\n",
    "A = np.zeros((n, n), int)\n",
    "for tup in Edges:\n",
    "    A[tup] = 1\n",
    "\n",
    "#S = eigenvalue(L)^1/2 * eigenvector\n",
    "S, L = FindS(A)"
   ]
  },
  {
   "cell_type": "markdown",
   "metadata": {},
   "source": [
    "# Generate Z * one.T"
   ]
  },
  {
   "cell_type": "code",
   "execution_count": 54,
   "metadata": {
    "collapsed": true
   },
   "outputs": [],
   "source": [
    "z = np.ones(len(df)-1)\n",
    "z = np.asmatrix(z)\n",
    "z = np.concatenate([z, -z],axis=1)\n",
    "one = np.ones((len(df.columns)))\n",
    "one = np.asmatrix(one)\n",
    "ZOne = np.dot(z.T, one)"
   ]
  },
  {
   "cell_type": "code",
   "execution_count": 55,
   "metadata": {
    "collapsed": true
   },
   "outputs": [],
   "source": [
    "# find S\n",
    "# A: matrix n*n\n",
    "# return: matrix S\n",
    "def FindS(A):\n",
    "    time_start = time.clock()\n",
    "    L = np.zeros((len(A), len(A)), float)\n",
    "    for i in range(len(A)):\n",
    "        for j in range(len(A)):\n",
    "            if i == j and L[i,j] == 0:\n",
    "                deg_i = sum(A[i]) - 1\n",
    "                value = 1 - (A[i, j] / float(deg_i))\n",
    "                L[i, j] = value\n",
    "                L[j, i] = value\n",
    "            elif A[i, j] == 1 and i != j and L[i,j] == 0:\n",
    "                deg_i = sum(A[i]) - 1\n",
    "                deg_j = sum(A[j]) - 1\n",
    "                value = -1 / math.sqrt(deg_i * deg_j)\n",
    "                L[i, j] = value\n",
    "                L[j, i] = value\n",
    "\n",
    "    eigvalue, eigvec = scipy.linalg.eigh(L)\n",
    "\n",
    "\n",
    "    eigvalue[eigvalue < 10e-12] = 0.01 # for some numerical instability\n",
    "    # eigvalue[eigvalue < 0] *= -1  # for some numerical instability\n",
    "    square_eig = np.sqrt(eigvalue)\n",
    "    \n",
    "\n",
    "    S = np.dot(square_eig, eigvec.T)  # S = (eigenVal)^1/2 * eigenvector.T\n",
    "\n",
    "    time_elapsed = (time.clock() - time_start)\n",
    "    print 'Generating S Matrix'\n",
    "    print time_elapsed\n",
    "    return S, L"
   ]
  },
  {
   "cell_type": "markdown",
   "metadata": {},
   "source": [
    "# Generate sample based on mean vector and cov matrix"
   ]
  },
  {
   "cell_type": "code",
   "execution_count": 56,
   "metadata": {
    "collapsed": true
   },
   "outputs": [],
   "source": [
    "# df: dataframe, pos: position\n",
    "# return: set of K-1 sampling\n",
    "def GenerateSampling(df, pos):\n",
    "    time_start = time.clock()\n",
    "    mean_vec = df.iloc[pos]  #x0 as mean vector\n",
    "    cov_mat = df - mean_vec\n",
    "    cov_mat.drop(cov_mat.index[[pos]], inplace=True)\n",
    "    n = len(df.columns)\n",
    "    cov_mat = np.dot(cov_mat.transpose(), cov_mat) / (n - 1) #find covariance matrix from K neigbor\n",
    "\n",
    "    # generate k-1 samplings (non-negative)\n",
    "    sampling = np.rint(np.abs(scipy.random.multivariate_normal(mean_vec, cov_mat, len(df.index) - 2)))\n",
    "    time_elapsed = (time.clock() - time_start)\n",
    "    print 'Generating Sample Time'\n",
    "    print time_elapsed\n",
    "    return sampling"
   ]
  },
  {
   "cell_type": "markdown",
   "metadata": {},
   "source": [
    "To ensure the data is balanced, we add (K-1) sampling to the data by using x0(potential outlier in the iteration) as mean vector and covariance matrix form K neighboring networks."
   ]
  },
  {
   "cell_type": "markdown",
   "metadata": {},
   "source": [
    "# for-loop to test with whole set of networks"
   ]
  },
  {
   "cell_type": "code",
   "execution_count": 57,
   "metadata": {
    "collapsed": false
   },
   "outputs": [
    {
     "name": "stderr",
     "output_type": "stream",
     "text": [
      "C:\\Users\\Yutthana\\Anaconda2\\lib\\site-packages\\ipykernel\\__main__.py:12: RuntimeWarning: covariance is not positive-semidefinite.\n"
     ]
    },
    {
     "name": "stdout",
     "output_type": "stream",
     "text": [
      "Generating Sample Time\n",
      "0.0124634584822\n",
      "status: optimal\n",
      "sim1.txt :number of non-zero entry:5\n",
      "26\n",
      "35\n",
      "36\n",
      "37\n",
      "46\n",
      "Optimizing step\n",
      "0.0464656719278\n",
      "Generating Sample Time\n",
      "0.00256068586032\n",
      "status: optimal\n",
      "sim2.txt :number of non-zero entry:1\n",
      "45\n",
      "Optimizing step\n",
      "0.0334792143121\n",
      "Generating Sample Time\n",
      "0.00272703636119\n",
      "status: optimal\n",
      "sim3.txt :number of non-zero entry:2\n",
      "26\n",
      "35\n",
      "Optimizing step\n",
      "0.0347441623376\n",
      "Generating Sample Time\n",
      "0.0033761881873\n",
      "status: optimal\n",
      "sim4.txt :number of non-zero entry:1\n",
      "45\n",
      "Optimizing step\n",
      "0.0307705663104\n",
      "Generating Sample Time\n",
      "0.00239690117678\n",
      "status: optimal\n",
      "sim5.txt :number of non-zero entry:5\n",
      "26\n",
      "35\n",
      "36\n",
      "37\n",
      "46\n",
      "Optimizing step\n",
      "0.0340932999661\n",
      "Generating Sample Time\n",
      "0.00354424923307\n",
      "status: optimal\n",
      "sim6.txt :number of non-zero entry:0\n",
      "Optimizing step\n",
      "0.0306662230655\n",
      "Generating Sample Time\n",
      "0.00329964129833\n",
      "status: optimal\n",
      "sim7.txt :number of non-zero entry:0\n",
      "Optimizing step\n",
      "0.0311349123945\n",
      "Generating Sample Time\n",
      "0.00266203565116\n",
      "status: optimal\n",
      "sim8.txt :number of non-zero entry:0\n",
      "Optimizing step\n",
      "0.0362374681195\n",
      "Generating Sample Time\n",
      "0.00324191040499\n",
      "status: optimal\n",
      "sim9.txt :number of non-zero entry:0\n",
      "Optimizing step\n",
      "0.0300628283176\n",
      "Generating Sample Time\n",
      "0.00267400946586\n",
      "status: optimal\n",
      "sim_outlier.txt :number of non-zero entry:6\n",
      "26\n",
      "35\n",
      "36\n",
      "37\n",
      "45\n",
      "46\n",
      "Optimizing step\n",
      "0.0313970534153\n"
     ]
    }
   ],
   "source": [
    "for it in range(len(df)):\n",
    "    index_list = list(df.T)\n",
    "    index_list[0], index_list[it] = index_list[it], index_list[0] #reindex (swap row of data)\n",
    "    df.index = index_list\n",
    "    df.sort_index(inplace=True)\n",
    "\n",
    "\n",
    "    # generate sampling (for potential outlier pic)\n",
    "    sampling = GenerateSampling(df, 0)\n",
    "\n",
    "    # append sampling\n",
    "    column_reindex = [((len(df)-1) * 2) - 1] #new index\n",
    "    for i in range(((len(df) - 1) * 2) - 1):\n",
    "        column_reindex.append(i)\n",
    "    df2 = pd.concat([df, pd.DataFrame(sampling)])\n",
    "    df2.index = column_reindex\n",
    "    df2.sort_index(inplace=True) #reindex\n",
    "    df2 = df2.as_matrix()\n",
    "\n",
    "    X1 = np.subtract(df2,ZOne) # X1 = X0 - Z*1.T\n",
    "    X2 = np.add(df2, ZOne) # X2 = X0 + z*1.T\n",
    "\n",
    "\n",
    "    lambda1 = np.sqrt(1)\n",
    "    dia_S = np.diag(S)\n",
    "    #divide X1 and X2 with S\n",
    "    S_inv = np.linalg.inv(dia_S * lambda1)\n",
    "    X1 = np.dot(X1, S_inv)\n",
    "    X2 = np.dot(X2, S_inv)\n",
    "    X = np.concatenate([X1, -X2], axis=1)\n",
    "    \n",
    "    \n",
    "    # -------------------------- optimizing problem -------------------------\n",
    "    optimizing_start = time.clock()\n",
    "    lambda2 = 0.01\n",
    "\n",
    "    # create varaible w; size = 2n * 1 = 7680 * 1\n",
    "    w = cvx.Variable(X.shape[1])\n",
    "    mid_point = X.shape[1]/2\n",
    "    cvx.pos(w[0:mid_point]) # pos = max(x, 0)\n",
    "    cvx.neg(w[mid_point:X.shape[1]]) # neg = max(-x, 0)\n",
    "\n",
    "    P = X.T.dot(X)\n",
    "    # quad_form = (w.T)P(w)\n",
    "    objective = cvx.quad_form(w, P) #objective = w.T * X.T * X * w\n",
    "\n",
    "    #a is diaganal 1 matrix\n",
    "    a = np.zeros((X.shape[1], X.shape[1]), int)\n",
    "    np.fill_diagonal(a, 1)\n",
    "\n",
    "    #l2 = w.T*w\n",
    "    l2 = cvx.quad_form(w, a)\n",
    "    # l2 = cvx.norm2(w)\n",
    "\n",
    "    prob = cvx.Problem(cvx.Minimize(objective + lambda2*l2), [cvx.sum_entries(w) == 1, w >= 0])\n",
    "\n",
    "\n",
    "    prob.solve(solver=cvx.SCS)\n",
    "    print \"status:\", prob.status\n",
    "    # ------------------------------------------------------------------------------------\n",
    "\n",
    "    ##### abnormal nodeid: 0,1,2,10,11,12,20,21,22 #####\n",
    "\n",
    "    #count number of non-zero\n",
    "    count = 0\n",
    "\n",
    "    #lsit of non-zero index\n",
    "    nonzero = []\n",
    "\n",
    "    epsilon = 10e-6 #instead of 0\n",
    "\n",
    "    # lsit of outlier node\n",
    "    out_list = [26,35,36,37,45,46]\n",
    "\n",
    "    # find non zero entry\n",
    "    for i in range(mid_point):\n",
    "        w1 = w[i].value #w+\n",
    "        w2 = w[i + mid_point].value #w-\n",
    "        if w1 < epsilon: #numerical instability\n",
    "            w1 = 0\n",
    "        if w2 < epsilon: #numerical instability\n",
    "            w2 = 0\n",
    "        w_op = w1 - w2\n",
    "        w_op2 = w2 - w1\n",
    "\n",
    "\n",
    "        if w_op >= epsilon or w_op2 >= epsilon:\n",
    "            nonzero.append(i)\n",
    "            count += 1\n",
    "\n",
    "\n",
    "    #print number of non-zero entry\n",
    "    print str(filename[it]) + ' :number of non-zero entry:' + str(count)\n",
    "\n",
    "    for i in nonzero:\n",
    "        print i\n",
    "\n",
    "\n",
    "    optimizing_end = (time.clock() - optimizing_start)\n",
    "    print \"Optimizing step\"\n",
    "    print optimizing_end"
   ]
  },
  {
   "cell_type": "markdown",
   "metadata": {
    "collapsed": true
   },
   "source": [
    "Based on the paper, the most outlier is the image with highest number of non-zero entries."
   ]
  },
  {
   "cell_type": "code",
   "execution_count": null,
   "metadata": {
    "collapsed": true
   },
   "outputs": [],
   "source": [
    ""
   ]
  }
 ],
 "metadata": {
  "anaconda-cloud": {},
  "kernelspec": {
   "display_name": "Python [default]",
   "language": "python",
   "name": "python2"
  },
  "language_info": {
   "codemirror_mode": {
    "name": "ipython",
    "version": 2.0
   },
   "file_extension": ".py",
   "mimetype": "text/x-python",
   "name": "python",
   "nbconvert_exporter": "python",
   "pygments_lexer": "ipython2",
   "version": "2.7.12"
  }
 },
 "nbformat": 4,
 "nbformat_minor": 0
}